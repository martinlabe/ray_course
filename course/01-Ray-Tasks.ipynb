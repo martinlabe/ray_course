{
 "cells": [
  {
   "cell_type": "markdown",
   "id": "15a16c45-b3a5-4c4f-81d4-8bec7c83892d",
   "metadata": {},
   "source": [
    "# 01 - Les tâches"
   ]
  },
  {
   "cell_type": "code",
   "execution_count": 37,
   "id": "42b0bdbc-3bcf-4975-9590-f8ae9cb5bfd7",
   "metadata": {},
   "outputs": [],
   "source": [
    "import logging\n",
    "import os\n",
    "import time\n",
    "from pathlib import Path\n",
    "from typing import List\n",
    "\n",
    "import numpy as np\n",
    "import ray\n",
    "from numpy import loadtxt"
   ]
  },
  {
   "cell_type": "markdown",
   "id": "a92b84f9",
   "metadata": {},
   "source": [
    "## 1. Modèle de tâches parallèles\n",
    "\n",
    "Ray transforme les fonctions décorées en tâches sans état **Ray Task**, planifiées n'importe où sur un worker Ray dans le cluster, simplement en ajoutant le décorateur `@ray.remote`.  Toutes ces fonctions seront exécutées par un processus worker dans un cluster Ray.\n",
    "\n",
    "Où seront-elles exécutées ? Par quel worker ? Tout cela est pris en charge par Ray.\n",
    "\n",
    "Notre travail consiste à prendre nos fonctions Python existantes et à les convertissez en tasks : c'est aussi simple que cela !"
   ]
  },
  {
   "cell_type": "markdown",
   "id": "1ed92720-2083-4dfd-9894-45bbf56f984f",
   "metadata": {},
   "source": [
    "### Exemple 1: Execution en série VS en parallèle\n",
    "\n",
    "Examinons les différentes manières d'executer des tâches.\n"
   ]
  },
  {
   "cell_type": "code",
   "execution_count": 38,
   "id": "a7f1368a-b796-4f48-a296-a2d106e01e35",
   "metadata": {},
   "outputs": [],
   "source": [
    "def regular_function():\n",
    "    return 1"
   ]
  },
  {
   "cell_type": "code",
   "execution_count": 39,
   "id": "5cdd2e3b-bb52-4e16-ac8a-0fa40cabab49",
   "metadata": {},
   "outputs": [],
   "source": [
    "@ray.remote\n",
    "def remote_function():\n",
    "    return 1"
   ]
  },
  {
   "cell_type": "markdown",
   "id": "8b195ea7",
   "metadata": {},
   "source": [
    "Que se passe-t-il quand on appelle ces fonctions ?"
   ]
  },
  {
   "cell_type": "code",
   "execution_count": null,
   "id": "6d093793-d7d8-4558-b0c0-341333eeeaa0",
   "metadata": {},
   "outputs": [],
   "source": [
    "try:\n",
    "    res = regular_function()\n",
    "    print(res)\n",
    "except Exception as e:\n",
    "    print(f\"{type(e).__name__}: {e}\")"
   ]
  },
  {
   "cell_type": "code",
   "execution_count": null,
   "id": "a40c591b",
   "metadata": {},
   "outputs": [],
   "source": [
    "try:\n",
    "    res = remote_function()\n",
    "    print(res)\n",
    "except Exception as e:\n",
    "    print(f\"{type(e).__name__}: {e}\")"
   ]
  },
  {
   "cell_type": "markdown",
   "id": "b35da166",
   "metadata": {},
   "source": [
    "En effet, il existe quelques différences clés entre la fonction originale et la fonction décorée :\n",
    "\n",
    "- **Invocation** : La version classique est appelée avec `regular_function()`, tandis que la version distante est appelée avec `remote_function.remote()`.\n",
    "\n",
    "- **Valeurs de retour** : `regular_function` s'exécute de manière synchrone et retourne le résultat de la fonction (1), tandis que `remote_function` retourne immédiatement un `ObjectID` et exécute ensuite la tâche en arrière-plan dans un processus worker distinct. On appelle cet `ObjectID` un **future**, car il sera executé plus tard en appelant `ray.get`."
   ]
  },
  {
   "cell_type": "markdown",
   "id": "790844ba",
   "metadata": {},
   "source": [
    "Démonstration :"
   ]
  },
  {
   "cell_type": "code",
   "execution_count": null,
   "id": "4c0984c8-08f2-4106-bd64-e387420bf34b",
   "metadata": {},
   "outputs": [],
   "source": [
    "ray.init(\n",
    "    ignore_reinit_error=True,\n",
    "    logging_level=logging.ERROR,\n",
    "    log_to_driver=False,\n",
    ")"
   ]
  },
  {
   "cell_type": "code",
   "execution_count": null,
   "id": "0842a5c9-b47f-4377-b1c6-8562ca8dbe9d",
   "metadata": {},
   "outputs": [],
   "source": [
    "remote_function.remote()"
   ]
  },
  {
   "cell_type": "code",
   "execution_count": null,
   "id": "1648deeb-3272-46d6-abf9-e83cfca0d10e",
   "metadata": {},
   "outputs": [],
   "source": [
    "ray.get(remote_function.remote())"
   ]
  },
  {
   "cell_type": "markdown",
   "id": "206936b4",
   "metadata": {},
   "source": [
    "Imaginons que nous voulons executer cette tâche 10 fois."
   ]
  },
  {
   "cell_type": "markdown",
   "id": "18624b7a-b77b-4db3-8ee4-070a1fd1eb1c",
   "metadata": {},
   "source": [
    "**En série**: Invocations de `regular_function` dans une boucle"
   ]
  },
  {
   "cell_type": "code",
   "execution_count": 45,
   "id": "252445c7-a53a-4d84-9c67-686fb2ce2ace",
   "metadata": {},
   "outputs": [],
   "source": [
    "result = 0\n",
    "for _ in range(10):\n",
    "    result += regular_function()\n",
    "assert result == 10"
   ]
  },
  {
   "cell_type": "markdown",
   "id": "88681bcc-ba49-4d68-b9c7-147907549a73",
   "metadata": {},
   "source": [
    "**En parallèle**: Invocations de `remote_function` avec un seul appel à `get` :"
   ]
  },
  {
   "cell_type": "code",
   "execution_count": 46,
   "id": "54c40bf2-ca0e-4a71-a570-3853db84d40a",
   "metadata": {},
   "outputs": [],
   "source": [
    "results = []\n",
    "for _ in range(10):\n",
    "    results.append(remote_function.remote())\n",
    "assert sum(ray.get(results)) == 10"
   ]
  },
  {
   "cell_type": "markdown",
   "id": "e789e133-9b12-4518-831a-b78fa0430705",
   "metadata": {},
   "source": [
    "### Exercice 1 : Ajouter deux np.arrays"
   ]
  },
  {
   "cell_type": "markdown",
   "id": "7834bd87",
   "metadata": {},
   "source": [
    "      +---------------+       +---------------+    \n",
    "      | read_array    |       | read_array    |    \n",
    "      +---------------+       +---------------+    \n",
    "               |                       |           \n",
    "               +-----------+-----------+           \n",
    "                           |                       \n",
    "                    +---------------+              \n",
    "                    |   add_array   |              \n",
    "                    +---------------+              \n",
    "                           |                       \n",
    "                    +---------------+              \n",
    "                    |   *result*    |              \n",
    "                    +---------------+              "
   ]
  },
  {
   "cell_type": "markdown",
   "id": "3e076e93-3ed7-4acc-88ad-8a4115b568b3",
   "metadata": {},
   "source": [
    "**👇 À COMPLETER**\n",
    "\n",
    "Définir la task `read_array`, qui prend en argument un `path` de type `Path` et retourne un `np.array`."
   ]
  },
  {
   "cell_type": "code",
   "execution_count": 47,
   "id": "54f1ed66-7169-42f0-b952-6298dd01ab42",
   "metadata": {},
   "outputs": [],
   "source": [
    "# SOLUTION\n",
    "@ray.remote\n",
    "def read_array(path: Path) -> np.array:\n",
    "    return loadtxt(path, dtype=int)"
   ]
  },
  {
   "cell_type": "markdown",
   "id": "51619a9a-1f41-4678-a9ae-d2831713d247",
   "metadata": {},
   "source": [
    "**👇 À COMPLETER**\n",
    "\n",
    "Définir la task `add_array`, qui prend deux arguments `left` et `right` de type `np.array` et qui retourne leur somme avec `np.add`."
   ]
  },
  {
   "cell_type": "code",
   "execution_count": 48,
   "id": "c5e543c9-7b67-4776-b8d8-2a4bbbded604",
   "metadata": {},
   "outputs": [],
   "source": [
    "# SOLUTION\n",
    "@ray.remote\n",
    "def add_array(left: np.array, right: np.array) -> np.array:\n",
    "    return np.add(left, right)"
   ]
  },
  {
   "cell_type": "markdown",
   "id": "652bcd48",
   "metadata": {},
   "source": [
    "On doit alors obtenir des `ObjectRef` en appelant ces tâches :"
   ]
  },
  {
   "cell_type": "code",
   "execution_count": 49,
   "id": "2c1aee3b-9b15-4653-a46a-b0e0e3ee8a3a",
   "metadata": {},
   "outputs": [],
   "source": [
    "left_matrix_path, right_matrix_path = (\n",
    "    Path(\"../course-data/01-Ray-Tasks/matrix_1.txt\"),\n",
    "    Path(\"../course-data/01-Ray-Tasks/matrix_2.txt\"),\n",
    ")"
   ]
  },
  {
   "cell_type": "code",
   "execution_count": null,
   "id": "16389983-334b-4b1b-9982-5343d512e8c2",
   "metadata": {},
   "outputs": [],
   "source": [
    "obj_ref_left_matrix = read_array.remote(left_matrix_path)\n",
    "print(f\"left matrix: {obj_ref_left_matrix}\")"
   ]
  },
  {
   "cell_type": "code",
   "execution_count": null,
   "id": "866e4bdc-04e2-4629-b13c-a55a1be08621",
   "metadata": {},
   "outputs": [],
   "source": [
    "obj_ref_right_matrix = read_array.remote(right_matrix_path)\n",
    "print(f\"right matrix: {obj_ref_right_matrix}\")"
   ]
  },
  {
   "cell_type": "markdown",
   "id": "e7cc20ed-4f1e-4ec3-a8d3-1959b398175a",
   "metadata": {},
   "source": [
    "Ajoutons nos deux tableaux en utilisant Ray. Remarque : Nous envoyons des références Ray `ObjectRef` comme arguments."
   ]
  },
  {
   "cell_type": "markdown",
   "id": "7f7b4888-7116-4141-a170-744f9e31ae33",
   "metadata": {},
   "source": [
    "**👇 À COMPLETER**\n",
    "\n",
    "Executer les tasks en parallèle en utilisant `function.remote(args)`."
   ]
  },
  {
   "cell_type": "code",
   "execution_count": 52,
   "id": "c8195bf8-9f4e-421d-8955-0c0e8c851134",
   "metadata": {},
   "outputs": [],
   "source": [
    "# SOLUTION\n",
    "result_obj_ref = add_array.remote(obj_ref_left_matrix, obj_ref_right_matrix)"
   ]
  },
  {
   "cell_type": "markdown",
   "id": "d346857a-d91b-4b5c-8f31-db907179beb5",
   "metadata": {},
   "source": [
    "**👇 À COMPLETER**\n",
    "\n",
    "Obtenir le résultat en utilisant `ray.get(function)`.\n"
   ]
  },
  {
   "cell_type": "code",
   "execution_count": null,
   "id": "e642440b-e29c-4fb7-9c51-2390720d9146",
   "metadata": {},
   "outputs": [],
   "source": [
    "# SOLUTION\n",
    "result = ray.get(result_obj_ref)\n",
    "print(f\"Result: add arr1 + arr2: \\n {result}\")"
   ]
  },
  {
   "cell_type": "markdown",
   "id": "6f043cf5",
   "metadata": {},
   "source": [
    "**👇 À FAIRE**\n",
    "\n",
    "Changer une valeur dans un des fichiers qui continnent les matrices. Réexecuter la case précédente. Que se passe-t-il ?"
   ]
  },
  {
   "cell_type": "code",
   "execution_count": 54,
   "id": "184a9b91",
   "metadata": {},
   "outputs": [],
   "source": [
    "# SOLUTION\n",
    "# ...Rien. En fait les tâches sont executées lors d'un `remote` mais on obtient le résultat avec l'appel à get."
   ]
  },
  {
   "cell_type": "markdown",
   "id": "c30303db-5f78-4d84-b1ef-ef61f8dbb978",
   "metadata": {},
   "source": [
    "### Exercice 2 : Suite de Fibonnaci\n",
    "\n",
    "Dans cet exercice, on va définir une fonction qui génère une séquence de Fibonnaci allant de 1 à n."
   ]
  },
  {
   "cell_type": "code",
   "execution_count": 112,
   "id": "1cf54530-e125-45d4-92b3-9c6bc02f083a",
   "metadata": {},
   "outputs": [],
   "source": [
    "def generate_fibonacci(sequence_size: int) -> List[int]:\n",
    "    fibonacci = []\n",
    "    for i in range(0, sequence_size):\n",
    "        if i < 2:\n",
    "            fibonacci.append(i)\n",
    "            continue\n",
    "        fibonacci.append(fibonacci[i - 1] + fibonacci[i - 2])\n",
    "    return fibonacci[-1]"
   ]
  },
  {
   "cell_type": "markdown",
   "id": "b825c14d",
   "metadata": {},
   "source": [
    "On utilise un wrapper pour l'execution sur un cluster :"
   ]
  },
  {
   "cell_type": "code",
   "execution_count": 113,
   "id": "22788e88-5bd4-41da-91f8-51bc4ed76a41",
   "metadata": {},
   "outputs": [],
   "source": [
    "@ray.remote\n",
    "def generate_fibonacci_distributed(sequence_size):\n",
    "    return generate_fibonacci(sequence_size)"
   ]
  },
  {
   "cell_type": "markdown",
   "id": "cc31bce5",
   "metadata": {},
   "source": [
    "Le but est de voir la différence entre des executions locales, et des executions sur cluster. On va en lancer autant que le nombre de processeurs sur la machine."
   ]
  },
  {
   "cell_type": "code",
   "execution_count": null,
   "id": "389b4b81-3627-4592-b92e-cc3d5c3601ee",
   "metadata": {},
   "outputs": [],
   "source": [
    "number_of_tasks = os.cpu_count()\n",
    "number_of_tasks"
   ]
  },
  {
   "cell_type": "markdown",
   "id": "eab1da35",
   "metadata": {},
   "source": [
    "**👇 À COMPLÉTER**\n",
    "\n",
    "Compléter la fonction pour qu'elle appelle la fonction `generate_fibonacci` `number_of_tasks` fois avec une sequence_size de `10 000`."
   ]
  },
  {
   "cell_type": "code",
   "execution_count": 115,
   "id": "546138b1-0ec3-4f7d-b7eb-c032294fa4df",
   "metadata": {},
   "outputs": [],
   "source": [
    "def run_local(sequence_size):\n",
    "    # SOLUTION\n",
    "    results = [generate_fibonacci(sequence_size) for _ in range(number_of_tasks)]\n",
    "    return results"
   ]
  },
  {
   "cell_type": "code",
   "execution_count": null,
   "id": "520c97ec-d6ff-4e85-a09d-3873054d1558",
   "metadata": {},
   "outputs": [],
   "source": [
    "%%time\n",
    "run_local(10000)"
   ]
  },
  {
   "cell_type": "markdown",
   "id": "c21b5063",
   "metadata": {},
   "source": [
    "**👇 À COMPLÉTER**\n",
    "\n",
    "Compléter la fonction pour qu'elle appelle la fonction `generate_fibonacci_distributed` `number_of_tasks` fois avec une sequence_size de `10 000`."
   ]
  },
  {
   "cell_type": "code",
   "execution_count": 117,
   "id": "9f8317bb-18b2-4389-836d-1e05399148de",
   "metadata": {},
   "outputs": [],
   "source": [
    "def run_remote(sequence_size):\n",
    "    # SOLUTION\n",
    "    results = ray.get(\n",
    "        [\n",
    "            generate_fibonacci_distributed.remote(sequence_size)\n",
    "            for _ in range(number_of_tasks)\n",
    "        ]\n",
    "    )\n",
    "    return results"
   ]
  },
  {
   "cell_type": "code",
   "execution_count": null,
   "id": "2ca042c5-9d0d-4bcc-9522-69c7d1e95500",
   "metadata": {},
   "outputs": [],
   "source": [
    "%%time\n",
    "run_remote(10000)"
   ]
  },
  {
   "cell_type": "markdown",
   "id": "eaafdcd0-4dd2-4828-8879-a5c651da7ab1",
   "metadata": {},
   "source": [
    "### Exercice 3 : La dépendances des tâches \n",
    "\n",
    "Les dépendances entre les tâches peuvent constituer des goulots d'étranglement.\n",
    "\n",
    "Dans cette exercice, nous allons aggréger 8 valeurs ensemble. Nous allons de faire avec une addition naïve d'entiers, mais pour simuler une opération lourde, nous allons ajouter une instruction de `sleep`."
   ]
  },
  {
   "cell_type": "code",
   "execution_count": 131,
   "id": "c09265ff-7d31-46ba-96a4-2f847759f413",
   "metadata": {},
   "outputs": [],
   "source": [
    "@ray.remote\n",
    "def add(x, y):\n",
    "    time.sleep(1)\n",
    "    return x + y"
   ]
  },
  {
   "cell_type": "markdown",
   "id": "689bdf21",
   "metadata": {},
   "source": [
    "Voici les deux approches que nous allons comparer."
   ]
  },
  {
   "cell_type": "markdown",
   "id": "972a05ba",
   "metadata": {},
   "source": [
    "<img src=\"../images/task_dependencies_graphs.png\" height=\"50%\" width=\"70%\">"
   ]
  },
  {
   "cell_type": "markdown",
   "id": "ea45f851",
   "metadata": {},
   "source": [
    "Les valeurs à ajouter seront les suivantes :"
   ]
  },
  {
   "cell_type": "code",
   "execution_count": 143,
   "id": "44003521-a111-4729-935f-33f6868d748e",
   "metadata": {},
   "outputs": [],
   "source": [
    "values = [i for i in range(1, 8)]"
   ]
  },
  {
   "cell_type": "markdown",
   "id": "35754dd0",
   "metadata": {},
   "source": [
    "**👇 À COMPLÉTER**\n",
    "\n",
    "Écrire le code permettant d'aggréger la liste de valeur en modélisant l'execution lente :"
   ]
  },
  {
   "cell_type": "code",
   "execution_count": null,
   "id": "d8213699-6778-4fcf-9834-3b54ccc02b64",
   "metadata": {},
   "outputs": [],
   "source": [
    "%%time\n",
    "\n",
    "futures = values.copy()\n",
    "while len(futures) > 1:\n",
    "    # SOLUTION\n",
    "    futures = [add.remote(futures[0], futures[1])] + futures[2:]\n",
    "result = ray.get(futures[0])\n",
    "print(result)"
   ]
  },
  {
   "cell_type": "markdown",
   "id": "1a595a40-65bb-4c11-84de-f4c313a08dcd",
   "metadata": {},
   "source": [
    "**👇 À COMPLÉTER**\n",
    "\n",
    "Écrire le code permettant d'aggréger la liste de valeur en modélisant l'execution rapide :"
   ]
  },
  {
   "cell_type": "code",
   "execution_count": null,
   "id": "d2fabe38-8484-47e4-b2c8-a385f3201c81",
   "metadata": {},
   "outputs": [],
   "source": [
    "%%time\n",
    "\n",
    "futures = values.copy()\n",
    "while len(futures) > 1:\n",
    "    # SOLUTION\n",
    "    futures = futures[2:] + [add.remote(futures[0], futures[1])]\n",
    "result = ray.get(futures[0])\n",
    "print(result)"
   ]
  },
  {
   "cell_type": "markdown",
   "id": "7ccca2e7",
   "metadata": {},
   "source": [
    "**👇 À FAIRE**\n",
    "\n",
    "Quelle est la complexité des deux manières ? En augmentant n, on retrouve bien une correlation temporelle ?"
   ]
  },
  {
   "cell_type": "code",
   "execution_count": 152,
   "id": "2b9f5cf2",
   "metadata": {},
   "outputs": [],
   "source": [
    "# SOLUTION\n",
    "# 1. Ajout linéaire\n",
    "#\n",
    "# Pour une liste de n éléments [x1,x2,…,xn], on effectue les opérations séquentiellement :\n",
    "#     Étape 1 : Addition x1 avec le reste -> il reste n - 1​ opérations.\n",
    "#     Étape 2 : Addition x2 avec le reste -> il reste n - 2​ opérations.\n",
    "#     Continue jusqu'à ce qu'il reste 1 élement.`\n",
    "#\n",
    "# Le processus s'arrête lorsque :\n",
    "#     n - k = 1 -> k = n - 1\n",
    "#     Complexité de profondeur : O(n)\n",
    "#\n",
    "# 2. Ajout par paires\n",
    "#\n",
    "# Pour une liste de nn éléments [x1,x2,…,xn][x1​,x2​,…,xn​], les opérations se font par paires :\n",
    "#\n",
    "#     Étape 1 : Addition par paires -> il reste n/2​ opérations.\n",
    "#     Étape 2 : Addition des résultats par paire -> il reste n/4​ opérations.\n",
    "#     Continue jusqu'à ce qu’il reste 1 élément.\n",
    "#\n",
    "# Le processus s'arrête lorsque :\n",
    "# n/2^(k) = 1  ->  k=log⁡2(n)\n",
    "# Complexité de profondeur en O(log(n))"
   ]
  },
  {
   "cell_type": "code",
   "execution_count": 153,
   "id": "8f0256a2-ca5a-4c17-af32-022449fe3c6e",
   "metadata": {},
   "outputs": [],
   "source": [
    "ray.shutdown()"
   ]
  },
  {
   "cell_type": "markdown",
   "id": "736292de-21cd-45cc-a103-5c7732f628ab",
   "metadata": {},
   "source": [
    "---"
   ]
  },
  {
   "cell_type": "markdown",
   "id": "446ef32f-c8e2-4d57-a2ff-ad87fa3c7af4",
   "metadata": {},
   "source": [
    "### Exercice pour les braves\n",
    "\n",
    "**👇 À FAIRE**\n",
    "\n",
    "Implémenter un bubble sort local et un bubble sort sur cluster. Regarder l'évolution du temps en fonction de la dimension."
   ]
  }
 ],
 "metadata": {
  "kernelspec": {
   "display_name": "Kernel for Ray.io",
   "language": "python",
   "name": "rayio"
  },
  "language_info": {
   "codemirror_mode": {
    "name": "ipython",
    "version": 3
   },
   "file_extension": ".py",
   "mimetype": "text/x-python",
   "name": "python",
   "nbconvert_exporter": "python",
   "pygments_lexer": "ipython3",
   "version": "3.7.17"
  }
 },
 "nbformat": 4,
 "nbformat_minor": 5
}
