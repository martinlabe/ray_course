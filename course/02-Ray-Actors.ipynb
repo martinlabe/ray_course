{
 "cells": [
  {
   "cell_type": "markdown",
   "metadata": {},
   "source": [
    "# 02 - Les Acteurs"
   ]
  },
  {
   "cell_type": "code",
   "execution_count": 23,
   "metadata": {},
   "outputs": [],
   "source": [
    "import logging\n",
    "import random\n",
    "import time\n",
    "from random import randint\n",
    "from typing import Dict, List\n",
    "\n",
    "import numpy as np\n",
    "import ray\n",
    "from ray import ObjectRef"
   ]
  },
  {
   "cell_type": "code",
   "execution_count": null,
   "metadata": {},
   "outputs": [],
   "source": [
    "ray.init(\n",
    "    ignore_reinit_error=True,\n",
    "    logging_level=logging.ERROR,\n",
    ")"
   ]
  },
  {
   "cell_type": "markdown",
   "metadata": {},
   "source": [
    "Dans ce notebook, on va essayer d'explorer quelques patterns que l'on peut utiliser avec les **Actors**."
   ]
  },
  {
   "cell_type": "markdown",
   "metadata": {},
   "source": [
    "## La Remote Class"
   ]
  },
  {
   "cell_type": "markdown",
   "metadata": {},
   "source": [
    "Pour définir notre premier **Actor**, nous allons définir une classe avec le décorateur `@ray.remote`.\n",
    "\n",
    "Cette classe sera un `ParameterServer`, un exemple courant en machine learning où une instance maitresse (**La Remote Class**) peut mettre à jour les gradients provenant d'autres processus, par exemple des workers qui calculent les gradients individuels sur des batches."
   ]
  },
  {
   "cell_type": "markdown",
   "metadata": {},
   "source": [
    "<img src=\"../images/parameter_server.png\" width=\"40%\" height=\"20%\">"
   ]
  },
  {
   "cell_type": "code",
   "execution_count": 3,
   "metadata": {},
   "outputs": [],
   "source": [
    "@ray.remote\n",
    "class ParameterSever:\n",
    "    def __init__(self):\n",
    "        self.params = np.zeros(10)\n",
    "\n",
    "    def get_params(self):\n",
    "        return self.params\n",
    "\n",
    "    def update_params(self, gradients):\n",
    "        self.params -= gradients"
   ]
  },
  {
   "cell_type": "markdown",
   "metadata": {},
   "source": [
    "On va ensuite définir worker, une task qui va modéliser un calcul des gradients typique du machine learning, et qui va les envoyer au `ParameterServer`."
   ]
  },
  {
   "cell_type": "code",
   "execution_count": 4,
   "metadata": {},
   "outputs": [],
   "source": [
    "@ray.remote\n",
    "def worker(parameter_server: ParameterSever):\n",
    "    # Modélise les epoch\n",
    "    for i in range(100):\n",
    "        # Modélise le calcul des gradients\n",
    "        time.sleep(1.5)\n",
    "        grad = np.ones(10)\n",
    "        parameter_server.update_params.remote(grad)"
   ]
  },
  {
   "cell_type": "markdown",
   "metadata": {},
   "source": [
    "On démarre notre actor `ParameterServer`. Il va être schedulé comme un process sur un worker Ray."
   ]
  },
  {
   "cell_type": "code",
   "execution_count": null,
   "metadata": {},
   "outputs": [],
   "source": [
    "parameter_server = ParameterSever.remote()\n",
    "parameter_server"
   ]
  },
  {
   "cell_type": "markdown",
   "metadata": {},
   "source": [
    "Ça tourne ! Vérifions les poids initiaux stockés sur notre actor :"
   ]
  },
  {
   "cell_type": "code",
   "execution_count": null,
   "metadata": {},
   "outputs": [],
   "source": [
    "print(f\"Initial params: {ray.get(parameter_server.get_params.remote())}\")"
   ]
  },
  {
   "cell_type": "markdown",
   "metadata": {},
   "source": [
    "Maintenant, on va créer trois workers distincts représentant nos tâches de Machine Learning qui calculent des gradients."
   ]
  },
  {
   "cell_type": "code",
   "execution_count": null,
   "metadata": {},
   "outputs": [],
   "source": [
    "[worker.remote(parameter_server) for _ in range(3)]"
   ]
  },
  {
   "cell_type": "markdown",
   "metadata": {},
   "source": [
    "Maintenant, itérons dans une boucle et regardons l'évolution de nos poids dans le `ParameterServer` pendant que les workers s'exécutent indépendamment et mettent à jour les gradients."
   ]
  },
  {
   "cell_type": "code",
   "execution_count": null,
   "metadata": {},
   "outputs": [],
   "source": [
    "for _i in range(20):\n",
    "    print(f\"Updated params: {ray.get(parameter_server.get_params.remote())}\")\n",
    "    time.sleep(1)"
   ]
  },
  {
   "cell_type": "markdown",
   "metadata": {},
   "source": [
    "## L'arbre d'Actors\n",
    "\n",
    "L'`Arbre des Actors` ou le `Tree of Actors` est un pattern courant utilisé dans les bibliothèques Ray comme `Ray Tune`, `Ray Train` et `RLlib` pour entraîner des modèles en parallèle ou effectuer une [optimisation des hyperparamétres (HPO)](https://en.wikipedia.org/wiki/Hyperparameter_optimization) distribuée.\n",
    "\n",
    "Dans ce modèle, un arbre d'acteurs, les feuilles correspondent à des actors. Les collections d'actors sont gérées des `supervisor`. Ce pattern peut être utilisé lorsqu'on souhaite entraîner plusieurs modèles simultanément tout en étant capable de sauvegarder des checkpoints et d'inspecter les états.\n",
    "\n",
    "```\n",
    "                                                                          \n",
    "                            +---------+                                   \n",
    "                            |  Driver |                                   \n",
    "                            +---------+                                   \n",
    "                                 |                                        \n",
    "                      +----------------------+                            \n",
    "                      |                      |                            \n",
    "             +----------------+     +----------------+                    \n",
    "             | Supervisor     |     | Supervisor     |                    \n",
    "             | Actor          |     | Actor          |                    \n",
    "             +----------------+     +----------------+                    \n",
    "                      |                      |                            \n",
    "               +-----------+          +------------+                      \n",
    "               |           |          |            |                      \n",
    "           +-------+   +-------+   +-------+   +-------+                  \n",
    "           | Worker|   | Worker|   | Worker|   | Worker|                  \n",
    "           | Actor |   | Actor |   | Actor |   | Actor |                  \n",
    "           +-------+   +-------+   +-------+   +-------+                  \n",
    "```\n"
   ]
  },
  {
   "cell_type": "markdown",
   "metadata": {},
   "source": [
    "Dans un premier temps, on peut creer une classe qui représente un `Model`, il ne s'agit pas d'un actor car ici on ajoute juste les fonctionnalités spécifiques au modèle, comme par exemple sa manière de s'entrainer."
   ]
  },
  {
   "cell_type": "code",
   "execution_count": 9,
   "metadata": {},
   "outputs": [],
   "source": [
    "class Model:\n",
    "    def __init__(self, model: str):\n",
    "        self._model = model\n",
    "\n",
    "    def train(self):\n",
    "        time.sleep(1)  # Modélise les calculs\n",
    "\n",
    "\n",
    "def model_factory(model: str):\n",
    "    return Model(model)"
   ]
  },
  {
   "cell_type": "markdown",
   "metadata": {},
   "source": [
    "Ensuite, on va créer un actor, qui va représenter notre worker, avec ses différents états, et ses différentes fonctionnalités."
   ]
  },
  {
   "cell_type": "code",
   "execution_count": 10,
   "metadata": {},
   "outputs": [],
   "source": [
    "STATES = [\"RUNNING\", \"DONE\"]\n",
    "\n",
    "\n",
    "@ray.remote\n",
    "class Worker(object):\n",
    "    def __init__(self, model: str):\n",
    "        self._model = model\n",
    "\n",
    "    def state(self) -> str:\n",
    "        return random.choice(STATES)\n",
    "\n",
    "    def work(self) -> None:\n",
    "        model_factory(self._model).train()"
   ]
  },
  {
   "cell_type": "markdown",
   "metadata": {},
   "source": [
    "Ces Workers vont être déployés et controlés par les Supervisors."
   ]
  },
  {
   "cell_type": "code",
   "execution_count": 11,
   "metadata": {},
   "outputs": [],
   "source": [
    "@ray.remote\n",
    "class Supervisor:\n",
    "    def __init__(self) -> None:\n",
    "        self.workers = [\n",
    "            Worker.remote(name)\n",
    "            for name in [\"Logical Regression\", \"Classification\", \"Neural Metworks\"]\n",
    "        ]\n",
    "\n",
    "    def work(self) -> None:\n",
    "        [w.work.remote() for w in self.workers]\n",
    "\n",
    "    def terminate(self) -> None:\n",
    "        [ray.kill(w) for w in self.workers]\n",
    "\n",
    "    def state(self) -> List[str]:\n",
    "        return ray.get([w.state.remote() for w in self.workers])"
   ]
  },
  {
   "cell_type": "markdown",
   "metadata": {},
   "source": [
    "On peut ainsi lancer nos entrainements de la manière suivante :"
   ]
  },
  {
   "cell_type": "code",
   "execution_count": null,
   "metadata": {},
   "outputs": [],
   "source": [
    "supervisor = Supervisor.remote()\n",
    "\n",
    "supervisor.work.remote()"
   ]
  },
  {
   "cell_type": "code",
   "execution_count": null,
   "metadata": {},
   "outputs": [],
   "source": [
    "while True:\n",
    "    states = ray.get(supervisor.state.remote())\n",
    "    print(states)\n",
    "    result = all(\"DONE\" == e for e in states)\n",
    "    if result:\n",
    "        supervisor.terminate.remote()\n",
    "        ray.kill(supervisor)\n",
    "        break"
   ]
  },
  {
   "cell_type": "markdown",
   "metadata": {},
   "source": [
    "## Les Messages"
   ]
  },
  {
   "cell_type": "markdown",
   "metadata": {},
   "source": [
    "Maintenant, nous allons voir un nouveau pattern pour les systèmes de message. Il s'agit du `MessageActor`."
   ]
  },
  {
   "cell_type": "code",
   "execution_count": 14,
   "metadata": {},
   "outputs": [],
   "source": [
    "@ray.remote\n",
    "class MessageActor(object):\n",
    "    def __init__(self):\n",
    "        self.messages = []\n",
    "\n",
    "    def add_message(self, message):\n",
    "        self.messages.append(message)\n",
    "\n",
    "    def get_and_clear_messages(self):\n",
    "        messages = self.messages\n",
    "        self.messages = []\n",
    "        return messages"
   ]
  },
  {
   "cell_type": "code",
   "execution_count": 15,
   "metadata": {},
   "outputs": [],
   "source": [
    "message_actor = MessageActor.remote()"
   ]
  },
  {
   "cell_type": "markdown",
   "metadata": {},
   "source": [
    "Définissons une task qui boucle et envoie des messages à `MessageActor`. Elle va lui envoyer un identifiant avec un message associé."
   ]
  },
  {
   "cell_type": "code",
   "execution_count": 16,
   "metadata": {},
   "outputs": [],
   "source": [
    "@ray.remote\n",
    "def worker(message_actor, j):\n",
    "    for i in range(10):\n",
    "        time.sleep(1)\n",
    "        message_actor.add_message.remote(f\"Message {i} from worker {j}.\")"
   ]
  },
  {
   "cell_type": "markdown",
   "metadata": {},
   "source": [
    "On va démarrer en arrière plan trois tâches qui doivent communiquer avec le `MessageActor`."
   ]
  },
  {
   "cell_type": "code",
   "execution_count": null,
   "metadata": {},
   "outputs": [],
   "source": [
    "[worker.remote(message_actor, j) for j in range(3)]"
   ]
  },
  {
   "cell_type": "markdown",
   "metadata": {},
   "source": [
    "Pour les récupérer, on va executer une boucle qui périodiquement va appeler la fonction `get_and_clear_messages`."
   ]
  },
  {
   "cell_type": "code",
   "execution_count": null,
   "metadata": {},
   "outputs": [],
   "source": [
    "for _ in range(10):\n",
    "    new_messages = ray.get(message_actor.get_and_clear_messages.remote())\n",
    "    print(\"New messages\\n:\", new_messages)\n",
    "    time.sleep(1)"
   ]
  },
  {
   "cell_type": "markdown",
   "metadata": {},
   "source": [
    "----"
   ]
  },
  {
   "cell_type": "markdown",
   "metadata": {},
   "source": [
    "### Excercice : Gestion d'une flotte de taxis\n",
    "\n",
    "À vous de jouer !\n",
    "\n",
    "Vous êtes chargé de modéliser un service de taxi utilisant Ray pour gérer une flotte.\n",
    "\n",
    "Vous devez simuler une flotte de taxis où chaque taxi gagne de l'argent en fonction des courses qu'il effectue. Son tarif est de 1.25 dollar par seconde, mais il doit reverser une commission de 25 cents par seconde au dispatcher. Le dispatcher doit tenir un compte de l'argent total collecté, et doit distribuer les missions aux taxis."
   ]
  },
  {
   "cell_type": "markdown",
   "metadata": {},
   "source": [
    "Quelques notes techniques avant de démarrer.\n",
    "\n",
    "- Comment passer un actor, à un autre actor ?\n",
    "   - Attention, `self` est un mot clef python, et il n'est pas vraiment compatible avec `Ray`... Si vous devez passer la référence de l'actor courant vers un autre actor il faudra utiliser :\n",
    "   - `ray.get_runtime_context().current_actor`\n",
    "\n",
    "- Si j'appelle deux fonctions d'un actor... Est-ce que les appels sont parallélisés ?\n",
    "   - Non, pourquoi le serait-ils ?"
   ]
  },
  {
   "cell_type": "markdown",
   "metadata": {},
   "source": [
    "**👇 À COMPLETER**\n",
    "\n",
    "\n",
    "Vous allez implémenter une classe Taxi en tant qu'acteur Ray. Cette classe représente un taxi individuel dans un système de gestion de flotte. Elle doit permettre d'attribuer des courses et de suivre les gains du chauffeur.\n",
    "\n",
    "\n",
    "<br/>\n",
    "\n",
    "**Attributs de la classe**\n",
    "\n",
    "Votre classe Taxi doit inclure les attributs suivants :\n",
    "\n",
    " - `message_actor` : Une référence à l'acteur MessageActor, utilisée pour enregistrer des messages sur les actions du taxi.\n",
    " - `dispatcher` : Une référence à l'acteur Dispatcher, permettant au taxi de notifier la fin d'une course.\n",
    " - `name` : Une chaîne de caractères représentant le nom du chauffeur.\n",
    " - `cash` : Un float représentant les gains nets du taxi.\n",
    " - `state` : Une chaîne de caractères indiquant l'état actuel du taxi (`DISPONIBLE` ou `OCCUPE`).\n",
    "\n",
    "<br/>\n",
    "\n",
    "\n",
    "**Méthodes à implémenter**\n",
    "\n",
    "`__init__(name, message_actor, dispatcher)`\n",
    "\n",
    "- Initialisez les attributs message_actor, dispatcher, name, cash, et state.\n",
    "- Le taxi commence avec un cash initial de 0.0 et dans l'état DISPONIBLE.\n",
    "\n",
    "\n",
    "`take_ride(duration)`\n",
    "\n",
    "- Changez l'état du taxi à OCCUPE.\n",
    "- Simulez la durée de la course en utilisant time.sleep(duration).\n",
    "- Calculez les gains nets pour la course.\n",
    "- Appelez la méthode ride_complete.remote() du dispatcher pour notifier la fin de la course et envoyer la commission correspondante.\n",
    "- Revenez à l'état DISPONIBLE une fois la course terminée.\n",
    "\n",
    "\n",
    "<br/>\n",
    "\n",
    "**Contraintes**\n",
    "\n",
    "- Les appels au dispatcher, tels que ride_complete, doivent être effectués avec .remote() pour garantir qu'ils sont asynchrones et ne bloquent pas le taxi.\n",
    "- La méthode `take_ride` doit s'exécuter sans interaction directe avec le système principal (pas de retour ou ray.get).\n"
   ]
  },
  {
   "cell_type": "code",
   "execution_count": null,
   "metadata": {},
   "outputs": [],
   "source": [
    "DISPONIBLE, OCCUPE = \"disponible\", \"occupe\"\n",
    "PRICE_PER_SECOND = 1.25\n",
    "COMMISSION_PER_SECOND = 0.25\n",
    "\n",
    "\n",
    "@ray.remote\n",
    "class Taxi:\n",
    "    message_actor: MessageActor\n",
    "    dispatcher: \"Dispatcher\"\n",
    "    name: str\n",
    "    cash: float\n",
    "    state: str\n",
    "\n",
    "    def __init__(\n",
    "        self, name, message_actor: MessageActor, dispatcher: \"Dispatcher\"\n",
    "    ) -> None:\n",
    "        # SOLUTION\n",
    "        self.message_actor = message_actor\n",
    "        self.dispatcher = dispatcher\n",
    "        self.name = name\n",
    "        self.cash = 0.0\n",
    "        self.state = DISPONIBLE\n",
    "\n",
    "    def take_ride(self, duration: int) -> None:\n",
    "        # SOLUTION\n",
    "        self.state = OCCUPE\n",
    "        time.sleep(duration)\n",
    "        self.cash += duration * (PRICE_PER_SECOND - COMMISSION_PER_SECOND)\n",
    "        self.dispatcher.ride_complete.remote(\n",
    "            self.name, duration * COMMISSION_PER_SECOND\n",
    "        )\n",
    "        self.state = DISPONIBLE"
   ]
  },
  {
   "cell_type": "markdown",
   "metadata": {},
   "source": [
    "**👇 À COMPLETER**\n",
    "\n",
    "Vous allez implémenter une classe Dispatcher en tant qu'acteur Ray. Cette classe aura pour rôle de gérer une flotte de taxis et leur état.\n",
    "\n",
    "<br/>\n",
    "\n",
    "**Attributs de la classe**\n",
    "\n",
    "Votre classe devra inclure les éléments suivants :\n",
    "\n",
    " - Un acteur pour la gestion des messages (message_actor).\n",
    " - Une variable représentant l'argent total collecté via les commissions.\n",
    " - Une structure pour suivre l'état des chauffeurs (noms et états).\n",
    " - Une liste contenant les taxis gérés par le dispatcher.\n",
    "\n",
    "La liste des employés est :\n",
    " - Daniel\n",
    " - Petra\n",
    " - Gilbert\n",
    " - Emilien\n",
    "\n",
    "\n",
    "<br/>\n",
    "\n",
    "\n",
    "**Méthodes à implémenter**:\n",
    "\n",
    "\n",
    "`__init__`\n",
    "- Initialisez les attributs nécessaires, créez la flotte de taxis en passant les informations nécessaires (nom du chauffeur, message_actor, etc.), et configurez le système de gestion des états.\n",
    "\n",
    "`assign_ride(duration)`\n",
    "- Attribuez une course à un chauffeur disponible. Signaler cette attribution au `MessageActor`.\n",
    "- Si aucun taxi n'est disponible, signalez le également.\n",
    "\n",
    "`ride_complete(driver, commission)`\n",
    "- Lorsque la course est terminée, mettez à jour les états des chauffeurs et ajoutez la commission collectée au total. Signaler cette fin de course au `MessageActor`.\n",
    "\n",
    "`get_cash()`\n",
    "- Retournez l'argent total collecté par le dispatcher.\n",
    "\n",
    "\n",
    "<br/>\n",
    "\n",
    "\n",
    "**Contraintes et Système d'États**\n",
    "\n",
    "- La gestion des états des taxis doit être basée uniquement sur une structure interne (pas de ray.get pour vérifier l'état d'un taxi en cours de course, car s'il est en train de faire une course, il faudrait qu'il la finisse pour répondre).\n",
    "- Chaque méthode doit respecter l'asynchronisme de Ray, avec l'utilisation appropriée de .remote()."
   ]
  },
  {
   "cell_type": "code",
   "execution_count": null,
   "metadata": {},
   "outputs": [],
   "source": [
    "@ray.remote\n",
    "class Dispatcher:\n",
    "    message_actor: MessageActor\n",
    "    cash: float\n",
    "    staff: Dict[str:str]  # {employee: status}\n",
    "    taxis: List[ObjectRef]\n",
    "\n",
    "    def __init__(self, message_actor) -> None:\n",
    "        # SOLUTION\n",
    "        self.message_actor = message_actor\n",
    "        self.cash = 0.0\n",
    "        self.staff = {\n",
    "            name: DISPONIBLE for name in [\"Daniel\", \"Petra\", \"Gilbert\", \"Emilien\"]\n",
    "        }\n",
    "        self.taxis = [\n",
    "            Taxi.remote(name, message_actor, ray.get_runtime_context().current_actor)\n",
    "            for name in self.staff.keys()\n",
    "        ]\n",
    "\n",
    "    def assign_ride(self, duration) -> None:\n",
    "        # SOLUTION\n",
    "        for (driver, status), taxi in zip(self.staff.items(), self.taxis):\n",
    "            if status == DISPONIBLE:\n",
    "                self.message_actor.add_message.remote(\n",
    "                    f\"Course de {duration} secondes envoyée à {driver}\"\n",
    "                )\n",
    "                self.staff[driver] = OCCUPE\n",
    "                taxi.take_ride.remote(duration)\n",
    "                return\n",
    "        self.message_actor.add_message.remote(f\"Tous les taxis sont occupés\")\n",
    "\n",
    "    def ride_complete(self, driver, commission: float) -> None:\n",
    "        # SOLUTION\n",
    "        self.message_actor.add_message.remote(\n",
    "            f\"Commission de {commission} reçu de la part de {driver}\"\n",
    "        )\n",
    "        self.cash += commission\n",
    "        self.staff[driver] = DISPONIBLE\n",
    "\n",
    "    def get_cash(self):\n",
    "        # SOLUTION\n",
    "        return self.cash"
   ]
  },
  {
   "cell_type": "markdown",
   "metadata": {},
   "source": [
    "**👇 À COMPLETER**\n",
    "\n",
    "Vous allez implémenter une classe Simulation en tant qu'acteur Ray. Cette classe sera responsable de simuler une journée de travail pour un dispatcher et sa flotte de taxis.\n",
    "\n",
    "<br/>\n",
    "\n",
    "**Attributs de la classe**\n",
    "\n",
    "Votre classe Simulation doit contenir :\n",
    "- Une référence à un acteur Dispatcher qui sera responsable de gérer les taxis et leurs états.\n",
    "\n",
    "<br/>\n",
    "\n",
    "**Méthodes à implémenter**\n",
    "\n",
    "`__init__(dispatcher)`\n",
    "- Recevez une référence à l'acteur Dispatcher.\n",
    "- Stockez cette référence dans un attribut pour pouvoir interagir avec le dispatcher au cours de la simulation.\n",
    "\n",
    "`run()`\n",
    "- Simulez une série d'événements sur une durée définie (par exemple, une journée de travail fictive).\n",
    "- À chaque itération :\n",
    "    - Générez une durée aléatoire pour une course.\n",
    "    - Appelez la méthode assign_ride de l'acteur Dispatcher avec cette durée.\n",
    "    - Attendez un temps fixe avant de passer à la prochaine itération pour simuler l'écoulement du temps.\n",
    "\n",
    "`get_dispatcher()`\n",
    "- Retournez la référence au dispatcher, permettant d'inspecter son état ou d'interagir avec lui en dehors de la simulation.\n",
    "\n",
    "<br/>\n",
    "\n",
    "**Contraintes**\n",
    "- La simulation doit être non bloquante pour d'autres processus Ray. Cela signifie que toutes les interactions avec le Dispatcher doivent se faire via .remote().\n",
    "- Le déroulement de la simulation doit imiter une journée réaliste avec des pauses régulières entre les courses."
   ]
  },
  {
   "cell_type": "code",
   "execution_count": 28,
   "metadata": {},
   "outputs": [],
   "source": [
    "@ray.remote\n",
    "class Simulation:\n",
    "    def __init__(self, dispatcher):\n",
    "        # SOLUTION\n",
    "        self.dispatcher = dispatcher\n",
    "\n",
    "    def run(self):\n",
    "        # SOLUTION\n",
    "        for _ in range(10):\n",
    "            self.dispatcher.assign_ride.remote(random.randint(1, 5))\n",
    "            time.sleep(1)\n",
    "\n",
    "    def get_dispatcher(self):\n",
    "        # sOLUTION\n",
    "        return self.dispatcher"
   ]
  },
  {
   "cell_type": "code",
   "execution_count": null,
   "metadata": {},
   "outputs": [],
   "source": [
    "message_actor = MessageActor.remote()\n",
    "dispatcher = Dispatcher.remote(message_actor)\n",
    "simulation = Simulation.remote(dispatcher)\n",
    "simulation.run.remote()\n",
    "\n",
    "for _ in range(15):\n",
    "    messages = ray.get(message_actor.get_and_clear_messages.remote())\n",
    "    print(messages)\n",
    "    time.sleep(1)\n",
    "\n",
    "total_commission = ray.get(dispatcher.get_cash.remote())\n",
    "print(f\"Commission totale collectée {total_commission}\")"
   ]
  },
  {
   "cell_type": "code",
   "execution_count": 20,
   "metadata": {},
   "outputs": [],
   "source": [
    "# ray.shutdown()"
   ]
  }
 ],
 "metadata": {
  "kernelspec": {
   "display_name": "Kernel for Ray.io",
   "language": "python",
   "name": "rayio"
  },
  "language_info": {
   "codemirror_mode": {
    "name": "ipython",
    "version": 3
   },
   "file_extension": ".py",
   "mimetype": "text/x-python",
   "name": "python",
   "nbconvert_exporter": "python",
   "pygments_lexer": "ipython3",
   "version": "3.7.17"
  }
 },
 "nbformat": 4,
 "nbformat_minor": 4
}
